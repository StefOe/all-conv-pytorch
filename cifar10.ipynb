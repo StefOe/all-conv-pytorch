{
  "nbformat": 4,
  "nbformat_minor": 0,
  "metadata": {
    "colab": {
      "name": "cifar10.ipynb",
      "version": "0.3.2",
      "provenance": [],
      "collapsed_sections": []
    },
    "kernelspec": {
      "display_name": "Python 3",
      "language": "python",
      "name": "python3"
    },
    "accelerator": "GPU"
  },
  "cells": [
    {
      "cell_type": "markdown",
      "metadata": {
        "id": "view-in-github",
        "colab_type": "text"
      },
      "source": [
        "[View in Colaboratory](https://colab.research.google.com/github/StefOe/all-conv-pytorch/blob/master/cifar10.ipynb)"
      ]
    },
    {
      "metadata": {
        "id": "NjsA9TTlvXU7",
        "colab_type": "code",
        "colab": {}
      },
      "cell_type": "code",
      "source": [
        "cuda = True\n",
        "train_batch_size = 32\n",
        "test_batch_size = 124\n",
        "best_loss = float(\"inf\")\n",
        "best_epoch = -1\n",
        "dataset_path = './cifar10'\n",
        "gsync_save = True"
      ],
      "execution_count": 0,
      "outputs": []
    },
    {
      "metadata": {
        "id": "z0LLDiZnvXU-",
        "colab_type": "code",
        "colab": {}
      },
      "cell_type": "code",
      "source": [
        "try:\n",
        "    import torch\n",
        "except ModuleNotFoundError:\n",
        "    from os import path\n",
        "    from wheel.pep425tags import get_abbr_impl, get_impl_ver, get_abi_tag\n",
        "    platform = '{}{}-{}'.format(get_abbr_impl(), get_impl_ver(), get_abi_tag())\n",
        "\n",
        "    accelerator = 'cu80' if path.exists('/opt/bin/nvidia-smi') else 'cpu'\n",
        "\n",
        "    !pip install -q http://download.pytorch.org/whl/{accelerator}/torch-0.3.1-{platform}-linux_x86_64.whl\n",
        "    import torch\n",
        "import torch.nn as nn\n",
        "import torch.nn.functional as F\n",
        "import torch.optim as optim\n",
        "from torch.autograd import Variable"
      ],
      "execution_count": 0,
      "outputs": []
    },
    {
      "metadata": {
        "id": "g_41e1ZYvXVB",
        "colab_type": "code",
        "colab": {}
      },
      "cell_type": "code",
      "source": [
        "try:\n",
        "    import torchvision\n",
        "except ModuleNotFoundError:\n",
        "    !pip install -q torchvision\n",
        "\n",
        "from torchvision import datasets, transforms"
      ],
      "execution_count": 0,
      "outputs": []
    },
    {
      "metadata": {
        "id": "qykF9_LVLB7u",
        "colab_type": "code",
        "colab": {}
      },
      "cell_type": "code",
      "source": [
        "if gsync_save:\n",
        "    try:\n",
        "        import utils\n",
        "    except ModuleNotFoundError:\n",
        "        !wget https://raw.githubusercontent.com/StefOe/colab-pytorch-utils/HEAD/utils.py\n",
        "        import utils\n",
        "\n",
        "    gsync = utils.GDriveSync()"
      ],
      "execution_count": 0,
      "outputs": []
    },
    {
      "metadata": {
        "id": "Lam-625bvXVE",
        "colab_type": "code",
        "colab": {}
      },
      "cell_type": "code",
      "source": [
        "try:\n",
        "    from allconv import AllConvNet\n",
        "except ModuleNotFoundError: \n",
        "    !wget https://github.com/StefOe/all-conv-pytorch/raw/HEAD/allconv.py\n",
        "    from allconv import AllConvNet"
      ],
      "execution_count": 0,
      "outputs": []
    },
    {
      "metadata": {
        "id": "rZu8tSSYvXVL",
        "colab_type": "code",
        "colab": {
          "base_uri": "https://localhost:8080/",
          "height": 68
        },
        "outputId": "5fcf0bee-6d2b-4d57-bb2a-ba4e09fc0496"
      },
      "cell_type": "code",
      "source": [
        "cuda = cuda and torch.cuda.is_available()\n",
        "trainset = datasets.CIFAR10(root=dataset_path, train=True, download=True)\n",
        "train_mean = trainset.train_data.mean(axis=(0,1,2))/255  # [0.49139968  0.48215841  0.44653091]\n",
        "train_std = trainset.train_data.std(axis=(0,1,2))/255  # [0.24703223  0.24348513  0.26158784]\n",
        "transform_train = transforms.Compose([\n",
        "    transforms.RandomCrop(32, padding=4),\n",
        "    transforms.RandomHorizontalFlip(),\n",
        "    transforms.ToTensor(),\n",
        "    transforms.Normalize(train_mean, train_std),\n",
        "])\n",
        "\n",
        "transform_test = transforms.Compose([\n",
        "    transforms.ToTensor(),\n",
        "    transforms.Normalize(train_mean, train_std),\n",
        "])\n",
        "kwargs = {'num_workers': 1, 'pin_memory': True} if cuda else {}\n",
        "train_loader = torch.utils.data.DataLoader(datasets.CIFAR10(\n",
        "    root=dataset_path, train=True, download=True,\n",
        "    transform=transform_train),\n",
        "    batch_size=train_batch_size, shuffle=True, **kwargs)\n",
        "test_loader = torch.utils.data.DataLoader(\n",
        "    datasets.CIFAR10(root=dataset_path, train=False, download=True,\n",
        "    transform=transform_test),\n",
        "    batch_size=test_batch_size, shuffle=False, **kwargs)"
      ],
      "execution_count": 14,
      "outputs": [
        {
          "output_type": "stream",
          "text": [
            "Files already downloaded and verified\n",
            "Files already downloaded and verified\n",
            "Files already downloaded and verified\n"
          ],
          "name": "stdout"
        }
      ]
    },
    {
      "metadata": {
        "id": "3WISJzjRvXVP",
        "colab_type": "code",
        "colab": {}
      },
      "cell_type": "code",
      "source": [
        "model = AllConvNet(3)\n",
        "if cuda:\n",
        "    model.cuda()\n",
        "\n",
        "criterion = nn.CrossEntropyLoss()\n",
        "optimizer = optim.SGD(model.parameters(), lr=0.001, momentum=0.9)\n",
        "scheduler = optim.lr_scheduler.MultiStepLR(\n",
        "    optimizer, milestones=[200, 250, 300], gamma=0.1)"
      ],
      "execution_count": 0,
      "outputs": []
    },
    {
      "metadata": {
        "id": "5shX88fvvXVR",
        "colab_type": "code",
        "colab": {}
      },
      "cell_type": "code",
      "source": [
        "def train(epoch):\n",
        "    model.train()\n",
        "    for batch_idx, (data, target) in enumerate(train_loader):\n",
        "        if cuda:\n",
        "            data, target = data.cuda(), target.cuda()\n",
        "        data, target = Variable(data), Variable(target)\n",
        "\n",
        "        optimizer.zero_grad()\n",
        "        output = model(data)\n",
        "        loss = criterion(output, target)\n",
        "        loss.backward()\n",
        "        optimizer.step()\n",
        "        if batch_idx % 100 == 0:\n",
        "            print('Train Epoch: {} [{}/{} ({:.0f}%)]\\tLoss: {:.6f}'.format(\n",
        "                epoch, batch_idx * len(data), len(train_loader.dataset),\n",
        "                100. * batch_idx / len(train_loader), loss.data[0]))\n",
        "            \n",
        "def test(epoch, best_loss, best_epoch):\n",
        "    model.eval()\n",
        "    test_loss = 0\n",
        "    correct = 0\n",
        "    for data, target in test_loader:\n",
        "        if cuda:\n",
        "            data, target = data.cuda(), target.cuda()\n",
        "        data, target = Variable(data), Variable(target)\n",
        "\n",
        "        output = model(data)\n",
        "        # sum up batch loss\n",
        "        test_loss += criterion(output, target).data[0]\n",
        "        # get the index of the max log-probability\n",
        "        pred = output.data.max(1, keepdim=True)[1]\n",
        "        correct += pred.eq(target.data.view_as(pred)).long().cpu().sum()\n",
        "\n",
        "    test_loss /= len(test_loader.dataset)\n",
        "    print(\n",
        "        '\\nTest set: Average loss: {:.4f}, Accuracy: {}/{} ({:.0f}%)\\n'.format(\n",
        "            test_loss, correct, len(test_loader.dataset), 100. * correct /\n",
        "            len(test_loader.dataset)))\n",
        "    \n",
        "    if test_loss < best_loss:\n",
        "        best_epoch = epoch\n",
        "        best_loss = test_loss\n",
        "        torch.save(model, \"best.pt\")\n",
        "        if gsync_save:\n",
        "            gsync.update_file_to_folder(\"best.pt\")\n",
        "    return best_loss, best_epoch"
      ],
      "execution_count": 0,
      "outputs": []
    },
    {
      "metadata": {
        "id": "Q_YHklUQvXVU",
        "colab_type": "code",
        "colab": {
          "base_uri": "https://localhost:8080/",
          "height": 1462
        },
        "outputId": "6efff7c5-483b-435b-df52-d78925ea39d6"
      },
      "cell_type": "code",
      "source": [
        "for epoch in range(350):\n",
        "    scheduler.step()\n",
        "    train(epoch)\n",
        "    best_loss, best_epoch = test(epoch, best_loss, best_epoch)"
      ],
      "execution_count": 0,
      "outputs": [
        {
          "output_type": "stream",
          "text": [
            "Train Epoch: 0 [0/50000 (0%)]\tLoss: 2.301202\n",
            "Train Epoch: 0 [3200/50000 (6%)]\tLoss: 2.302434\n",
            "Train Epoch: 0 [6400/50000 (13%)]\tLoss: 2.299673\n",
            "Train Epoch: 0 [9600/50000 (19%)]\tLoss: 2.307980\n",
            "Train Epoch: 0 [12800/50000 (26%)]\tLoss: 2.298484\n",
            "Train Epoch: 0 [16000/50000 (32%)]\tLoss: 2.302179\n",
            "Train Epoch: 0 [19200/50000 (38%)]\tLoss: 2.301268\n",
            "Train Epoch: 0 [22400/50000 (45%)]\tLoss: 2.304570\n",
            "Train Epoch: 0 [25600/50000 (51%)]\tLoss: 2.300430\n",
            "Train Epoch: 0 [28800/50000 (58%)]\tLoss: 2.303029\n",
            "Train Epoch: 0 [32000/50000 (64%)]\tLoss: 2.303145\n",
            "Train Epoch: 0 [35200/50000 (70%)]\tLoss: 2.302651\n",
            "Train Epoch: 0 [38400/50000 (77%)]\tLoss: 2.305348\n",
            "Train Epoch: 0 [41600/50000 (83%)]\tLoss: 2.301529\n",
            "Train Epoch: 0 [44800/50000 (90%)]\tLoss: 2.303548\n",
            "Train Epoch: 0 [48000/50000 (96%)]\tLoss: 2.304010\n",
            "\n",
            "Test set: Average loss: 0.0187, Accuracy: 1000/10000 (10%)\n",
            "\n"
          ],
          "name": "stdout"
        },
        {
          "output_type": "stream",
          "text": [
            "Uploading file best.pt: 100%|██████████| 100/100 [00:00<00:00, 144.70it/s]\n"
          ],
          "name": "stderr"
        },
        {
          "output_type": "stream",
          "text": [
            "Train Epoch: 1 [0/50000 (0%)]\tLoss: 2.304670\n",
            "Train Epoch: 1 [3200/50000 (6%)]\tLoss: 2.302471\n",
            "Train Epoch: 1 [6400/50000 (13%)]\tLoss: 2.301822\n",
            "Train Epoch: 1 [9600/50000 (19%)]\tLoss: 2.306013\n",
            "Train Epoch: 1 [12800/50000 (26%)]\tLoss: 2.301746\n",
            "Train Epoch: 1 [16000/50000 (32%)]\tLoss: 2.300900\n",
            "Train Epoch: 1 [19200/50000 (38%)]\tLoss: 2.306535\n",
            "Train Epoch: 1 [22400/50000 (45%)]\tLoss: 2.301388\n",
            "Train Epoch: 1 [25600/50000 (51%)]\tLoss: 2.305327\n",
            "Train Epoch: 1 [28800/50000 (58%)]\tLoss: 2.303864\n",
            "Train Epoch: 1 [32000/50000 (64%)]\tLoss: 2.302201\n",
            "Train Epoch: 1 [35200/50000 (70%)]\tLoss: 2.302491\n",
            "Train Epoch: 1 [38400/50000 (77%)]\tLoss: 2.302718\n",
            "Train Epoch: 1 [41600/50000 (83%)]\tLoss: 2.303147\n",
            "Train Epoch: 1 [44800/50000 (90%)]\tLoss: 2.302729\n",
            "Train Epoch: 1 [48000/50000 (96%)]\tLoss: 2.302319\n",
            "\n",
            "Test set: Average loss: 0.0187, Accuracy: 1000/10000 (10%)\n",
            "\n"
          ],
          "name": "stdout"
        },
        {
          "output_type": "stream",
          "text": [
            "Uploading file best.pt: 100%|██████████| 100/100 [00:00<00:00, 149.18it/s]\n"
          ],
          "name": "stderr"
        },
        {
          "output_type": "stream",
          "text": [
            "Train Epoch: 2 [0/50000 (0%)]\tLoss: 2.302569\n",
            "Train Epoch: 2 [3200/50000 (6%)]\tLoss: 2.302565\n",
            "Train Epoch: 2 [6400/50000 (13%)]\tLoss: 2.302988\n",
            "Train Epoch: 2 [9600/50000 (19%)]\tLoss: 2.302354\n",
            "Train Epoch: 2 [12800/50000 (26%)]\tLoss: 2.301873\n",
            "Train Epoch: 2 [16000/50000 (32%)]\tLoss: 2.303240\n",
            "Train Epoch: 2 [19200/50000 (38%)]\tLoss: 2.302656\n",
            "Train Epoch: 2 [22400/50000 (45%)]\tLoss: 2.302915\n",
            "Train Epoch: 2 [25600/50000 (51%)]\tLoss: 2.300892\n",
            "Train Epoch: 2 [28800/50000 (58%)]\tLoss: 2.302483\n",
            "Train Epoch: 2 [32000/50000 (64%)]\tLoss: 2.302700\n",
            "Train Epoch: 2 [35200/50000 (70%)]\tLoss: 2.302490\n",
            "Train Epoch: 2 [38400/50000 (77%)]\tLoss: 2.302285\n",
            "Train Epoch: 2 [41600/50000 (83%)]\tLoss: 2.301330\n",
            "Train Epoch: 2 [44800/50000 (90%)]\tLoss: 2.302984\n",
            "Train Epoch: 2 [48000/50000 (96%)]\tLoss: 2.302592\n",
            "\n",
            "Test set: Average loss: 0.0187, Accuracy: 1000/10000 (10%)\n",
            "\n"
          ],
          "name": "stdout"
        },
        {
          "output_type": "stream",
          "text": [
            "Uploading file best.pt: 100%|██████████| 100/100 [00:00<00:00, 150.71it/s]\n"
          ],
          "name": "stderr"
        },
        {
          "output_type": "stream",
          "text": [
            "Train Epoch: 3 [0/50000 (0%)]\tLoss: 2.302512\n",
            "Train Epoch: 3 [3200/50000 (6%)]\tLoss: 2.302413\n",
            "Train Epoch: 3 [6400/50000 (13%)]\tLoss: 2.302568\n",
            "Train Epoch: 3 [9600/50000 (19%)]\tLoss: 2.303024\n",
            "Train Epoch: 3 [12800/50000 (26%)]\tLoss: 2.302859\n",
            "Train Epoch: 3 [16000/50000 (32%)]\tLoss: 2.302206\n",
            "Train Epoch: 3 [19200/50000 (38%)]\tLoss: 2.302402\n",
            "Train Epoch: 3 [22400/50000 (45%)]\tLoss: 2.302208\n",
            "Train Epoch: 3 [25600/50000 (51%)]\tLoss: 2.302541\n",
            "Train Epoch: 3 [28800/50000 (58%)]\tLoss: 2.302618\n",
            "Train Epoch: 3 [32000/50000 (64%)]\tLoss: 2.302905\n",
            "Train Epoch: 3 [35200/50000 (70%)]\tLoss: 2.302374\n",
            "Train Epoch: 3 [38400/50000 (77%)]\tLoss: 2.302583\n",
            "Train Epoch: 3 [41600/50000 (83%)]\tLoss: 2.302378\n",
            "Train Epoch: 3 [44800/50000 (90%)]\tLoss: 2.302264\n",
            "Train Epoch: 3 [48000/50000 (96%)]\tLoss: 2.302325\n",
            "\n",
            "Test set: Average loss: 0.0187, Accuracy: 1000/10000 (10%)\n",
            "\n"
          ],
          "name": "stdout"
        },
        {
          "output_type": "stream",
          "text": [
            "Uploading file best.pt: 100%|██████████| 100/100 [00:00<00:00, 167.22it/s]\n"
          ],
          "name": "stderr"
        },
        {
          "output_type": "stream",
          "text": [
            "Train Epoch: 4 [0/50000 (0%)]\tLoss: 2.303740\n",
            "Train Epoch: 4 [3200/50000 (6%)]\tLoss: 2.302080\n",
            "Train Epoch: 4 [6400/50000 (13%)]\tLoss: 2.302977\n",
            "Train Epoch: 4 [9600/50000 (19%)]\tLoss: 2.302250\n",
            "Train Epoch: 4 [12800/50000 (26%)]\tLoss: 2.302896\n"
          ],
          "name": "stdout"
        }
      ]
    },
    {
      "metadata": {
        "id": "1-9ksOb8ykHx",
        "colab_type": "code",
        "colab": {}
      },
      "cell_type": "code",
      "source": [
        "# if in Google Colab, download your model with this\n",
        "from google.colab import files\n",
        "files.download(\"best.pt\")"
      ],
      "execution_count": 0,
      "outputs": []
    },
    {
      "metadata": {
        "id": "u1UIFa02y_eH",
        "colab_type": "code",
        "colab": {}
      },
      "cell_type": "code",
      "source": [
        ""
      ],
      "execution_count": 0,
      "outputs": []
    }
  ]
}